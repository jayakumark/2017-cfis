{
 "cells": [
  {
   "cell_type": "markdown",
   "metadata": {
    "deletable": true,
    "editable": true
   },
   "source": [
    "# MNIST classification"
   ]
  },
  {
   "cell_type": "markdown",
   "metadata": {
    "deletable": true,
    "editable": true
   },
   "source": [
    "In this session we will learn to design and train simple neural networks and observe their performance on a digit dataset called MNIST. To do this, we will use the [Keras API](https://keras.io/) with tensorflow, which will allow us to train and evaluate models in a simple way with a few lines of code."
   ]
  },
  {
   "cell_type": "code",
   "execution_count": 1,
   "metadata": {
    "collapsed": false,
    "deletable": true,
    "editable": true
   },
   "outputs": [
    {
     "name": "stderr",
     "output_type": "stream",
     "text": [
      "Using TensorFlow backend.\n"
     ]
    }
   ],
   "source": [
    "import matplotlib.pyplot as plt  \n",
    "%matplotlib inline\n",
    "from utils import plot_samples, plot_curves\n",
    "import time"
   ]
  },
  {
   "cell_type": "code",
   "execution_count": 2,
   "metadata": {
    "collapsed": false,
    "deletable": true,
    "editable": true
   },
   "outputs": [],
   "source": [
    "import numpy as np\n",
    "# force random seed for results to be reproducible\n",
    "SEED = 4242\n",
    "np.random.seed(SEED)"
   ]
  },
  {
   "cell_type": "markdown",
   "metadata": {
    "deletable": true,
    "editable": true
   },
   "source": [
    "## Dataset"
   ]
  },
  {
   "cell_type": "markdown",
   "metadata": {
    "deletable": true,
    "editable": true
   },
   "source": [
    "Let's begin by loading the MNIST dataset, which we will use during the whole session."
   ]
  },
  {
   "cell_type": "code",
   "execution_count": 3,
   "metadata": {
    "collapsed": false,
    "deletable": true,
    "editable": true
   },
   "outputs": [
    {
     "data": {
      "text/plain": [
       "(60000, 28, 28)"
      ]
     },
     "execution_count": 3,
     "metadata": {},
     "output_type": "execute_result"
    },
    {
     "data": {
      "image/png": "[encoded data removed]",
      "text/plain": [
       "<matplotlib.figure.Figure at 0x2201dbb16d8>"
      ]
     },
     "metadata": {},
     "output_type": "display_data"
    }
   ],
   "source": [
    "from keras.datasets import mnist\n",
    "from keras.utils import np_utils\n",
    "\n",
    "# Load pre-shuffled MNIST data into train and test sets\n",
    "(X_train, y_train), (X_test, y_test) = mnist.load_data()\n",
    "# Display some of the samples\n",
    "plot_samples(X_train)\n",
    "X_train.shape"
   ]
  },
  {
   "cell_type": "markdown",
   "metadata": {
    "deletable": true,
    "editable": true
   },
   "source": [
    "## Multiclass softmax"
   ]
  },
  {
   "cell_type": "markdown",
   "metadata": {
    "deletable": true,
    "editable": true
   },
   "source": [
    "We will design a network with a single layer, with as many neurons as categories in our dataset. Each output will be a fuction of all inputs (pixels)"
   ]
  },
  {
   "cell_type": "code",
   "execution_count": 4,
   "metadata": {
    "collapsed": false,
    "deletable": true,
    "editable": true
   },
   "outputs": [
    {
     "name": "stdout",
     "output_type": "stream",
     "text": [
      "____________________________________________________________________________________________________\n",
      "Layer (type)                     Output Shape          Param #     Connected to                     \n",
      "====================================================================================================\n",
      "dense_1 (Dense)                  (None, 10)            7850        dense_input_1[0][0]              \n",
      "____________________________________________________________________________________________________\n",
      "activation_1 (Activation)        (None, 10)            0           dense_1[0][0]                    \n",
      "====================================================================================================\n",
      "Total params: 7,850\n",
      "Trainable params: 7,850\n",
      "Non-trainable params: 0\n",
      "____________________________________________________________________________________________________\n"
     ]
    }
   ],
   "source": [
    "from keras.models import Sequential\n",
    "from keras.layers import Dense, Activation\n",
    "\n",
    "model = Sequential()\n",
    "# in the first layer we need to specify the input shape\n",
    "model.add(Dense(10, input_shape=(784,)))\n",
    "model.add(Activation('softmax'))\n",
    "\n",
    "model.summary()"
   ]
  },
  {
   "cell_type": "markdown",
   "metadata": {
    "deletable": true,
    "editable": true
   },
   "source": [
    "**Exercise**: ```model.summary()``` gave us the total number of trainable parameters of our model. How is this number obtained? "
   ]
  },
  {
   "cell_type": "markdown",
   "metadata": {
    "deletable": true,
    "editable": true
   },
   "source": [
    "**Answer**: Number of parameters: 10*784 + 10"
   ]
  },
  {
   "cell_type": "markdown",
   "metadata": {
    "deletable": true,
    "editable": true
   },
   "source": [
    "We flatten and normalize images to match the input that the network expects:"
   ]
  },
  {
   "cell_type": "code",
   "execution_count": 5,
   "metadata": {
    "collapsed": true,
    "deletable": true,
    "editable": true
   },
   "outputs": [],
   "source": [
    "X_train = X_train.reshape(60000, 784)\n",
    "X_test = X_test.reshape(10000, 784)\n",
    "X_train = X_train.astype('float32')\n",
    "X_test = X_test.astype('float32')\n",
    "X_train /= 255\n",
    "X_test /= 255"
   ]
  },
  {
   "cell_type": "markdown",
   "metadata": {
    "deletable": true,
    "editable": true
   },
   "source": [
    "Categories need to be converted to one-hot vectors for training:"
   ]
  },
  {
   "cell_type": "code",
   "execution_count": 6,
   "metadata": {
    "collapsed": false,
    "deletable": true,
    "editable": true
   },
   "outputs": [
    {
     "data": {
      "text/plain": [
       "(array([5, 0, 4, ..., 5, 6, 8], dtype=uint8),\n",
       " array([[ 0.,  0.,  0., ...,  0.,  0.,  0.],\n",
       "        [ 1.,  0.,  0., ...,  0.,  0.,  0.],\n",
       "        [ 0.,  0.,  0., ...,  0.,  0.,  0.],\n",
       "        ..., \n",
       "        [ 0.,  0.,  0., ...,  0.,  0.,  0.],\n",
       "        [ 0.,  0.,  0., ...,  0.,  0.,  0.],\n",
       "        [ 0.,  0.,  0., ...,  0.,  1.,  0.]]))"
      ]
     },
     "execution_count": 6,
     "metadata": {},
     "output_type": "execute_result"
    }
   ],
   "source": [
    "nb_classes = 10\n",
    "Y_train = np_utils.to_categorical(y_train, nb_classes)\n",
    "Y_test = np_utils.to_categorical(y_test, nb_classes)\n",
    "y_train, Y_train"
   ]
  },
  {
   "cell_type": "markdown",
   "metadata": {
    "deletable": true,
    "editable": true
   },
   "source": [
    "We are now ready to train. Let's define the optimizer:"
   ]
  },
  {
   "cell_type": "code",
   "execution_count": 7,
   "metadata": {
    "collapsed": true,
    "deletable": true,
    "editable": true
   },
   "outputs": [],
   "source": [
    "from keras.optimizers import SGD\n",
    "lr = 0.01\n",
    "# For now we will not decrease the learning rate\n",
    "decay = 0\n",
    "\n",
    "optim = SGD(lr=lr, decay=decay, momentum=0.9, nesterov=True)"
   ]
  },
  {
   "cell_type": "markdown",
   "metadata": {
    "deletable": true,
    "editable": true
   },
   "source": [
    "In Keras, we need to compile the model to define the loss and the optimizer we want to use. Since we are dealing with a classification problem, we will use the cross entropy loss, which is already defined in keras. Additionally, we will incorporate the accuracy as an additional metric to compute at the end of each epoch:"
   ]
  },
  {
   "cell_type": "code",
   "execution_count": 8,
   "metadata": {
    "collapsed": false,
    "deletable": true,
    "editable": true
   },
   "outputs": [],
   "source": [
    "model.compile(loss='categorical_crossentropy',\n",
    "              optimizer=optim,\n",
    "              metrics=['accuracy'])"
   ]
  },
  {
   "cell_type": "markdown",
   "metadata": {
    "deletable": true,
    "editable": true
   },
   "source": [
    "Now let's train the model. ```model.fit()``` will do the training loop for us. We just need to pass the training data ```X_train``` and labels ```Y_train``` as input, specify the ```batch_size``` and the number of epochs ```nb_epoch``` we want to do. We also pass the test set ```(X_test,Y_Test)``` as validation data, which will allow us to see how the model performs on the test data as training progresses. Let's run it:"
   ]
  },
  {
   "cell_type": "code",
   "execution_count": 9,
   "metadata": {
    "collapsed": false,
    "deletable": true,
    "editable": true
   },
   "outputs": [
    {
     "name": "stdout",
     "output_type": "stream",
     "text": [
      "Train on 60000 samples, validate on 10000 samples\n",
      "Epoch 1/20\n",
      "2s - loss: 0.4180 - acc: 0.8838 - val_loss: 0.3071 - val_acc: 0.9170\n",
      "Epoch 2/20\n",
      "2s - loss: 0.3135 - acc: 0.9115 - val_loss: 0.2898 - val_acc: 0.9199\n",
      "Epoch 3/20\n",
      "2s - loss: 0.2968 - acc: 0.9163 - val_loss: 0.2818 - val_acc: 0.9200\n",
      "Epoch 4/20\n",
      "2s - loss: 0.2880 - acc: 0.9196 - val_loss: 0.2753 - val_acc: 0.9230\n",
      "Epoch 5/20\n",
      "2s - loss: 0.2815 - acc: 0.9214 - val_loss: 0.2768 - val_acc: 0.9233\n",
      "Epoch 6/20\n",
      "2s - loss: 0.2766 - acc: 0.9220 - val_loss: 0.2747 - val_acc: 0.9225\n",
      "Epoch 7/20\n",
      "3s - loss: 0.2738 - acc: 0.9239 - val_loss: 0.2731 - val_acc: 0.9226\n",
      "Epoch 8/20\n",
      "3s - loss: 0.2713 - acc: 0.9247 - val_loss: 0.2719 - val_acc: 0.9249\n",
      "Epoch 9/20\n",
      "2s - loss: 0.2683 - acc: 0.9259 - val_loss: 0.2762 - val_acc: 0.9217\n",
      "Epoch 10/20\n",
      "2s - loss: 0.2665 - acc: 0.9261 - val_loss: 0.2756 - val_acc: 0.9229\n",
      "Epoch 11/20\n",
      "3s - loss: 0.2645 - acc: 0.9271 - val_loss: 0.2707 - val_acc: 0.9238\n",
      "Epoch 12/20\n",
      "3s - loss: 0.2631 - acc: 0.9267 - val_loss: 0.2703 - val_acc: 0.9257\n",
      "Epoch 13/20\n",
      "3s - loss: 0.2617 - acc: 0.9264 - val_loss: 0.2694 - val_acc: 0.9241\n",
      "Epoch 14/20\n",
      "2s - loss: 0.2608 - acc: 0.9277 - val_loss: 0.2676 - val_acc: 0.9252\n",
      "Epoch 15/20\n",
      "2s - loss: 0.2594 - acc: 0.9283 - val_loss: 0.2762 - val_acc: 0.9227\n",
      "Epoch 16/20\n",
      "2s - loss: 0.2582 - acc: 0.9283 - val_loss: 0.2658 - val_acc: 0.9246\n",
      "Epoch 17/20\n",
      "2s - loss: 0.2570 - acc: 0.9289 - val_loss: 0.2674 - val_acc: 0.9256\n",
      "Epoch 18/20\n",
      "2s - loss: 0.2562 - acc: 0.9290 - val_loss: 0.2731 - val_acc: 0.9243\n",
      "Epoch 19/20\n",
      "2s - loss: 0.2556 - acc: 0.9295 - val_loss: 0.2685 - val_acc: 0.9258\n",
      "Epoch 20/20\n",
      "2s - loss: 0.2550 - acc: 0.9299 - val_loss: 0.2644 - val_acc: 0.9274\n",
      "57.74252939224243 seconds.\n"
     ]
    }
   ],
   "source": [
    "batch_size = 32\n",
    "nb_epoch = 20\n",
    "verbose = 2\n",
    "\n",
    "t = time.time()\n",
    "history = model.fit(X_train, Y_train,\n",
    "                batch_size=batch_size, nb_epoch=nb_epoch,\n",
    "                verbose=verbose,validation_data=(X_test, Y_test))\n",
    "\n",
    "print (time.time() - t, \"seconds.\")"
   ]
  },
  {
   "cell_type": "markdown",
   "metadata": {
    "deletable": true,
    "editable": true
   },
   "source": [
    "We can plot the loss and accuracy curves with the ```history``` object returned by ```model.fit()```. The function ```plot_curves```, which is defined in ```utils.py``` will do this for us."
   ]
  },
  {
   "cell_type": "code",
   "execution_count": 10,
   "metadata": {
    "collapsed": false,
    "deletable": true,
    "editable": true
   },
   "outputs": [
    {
     "data": {
      "image/png": "[encoded data removed]",
      "text/plain": [
       "<matplotlib.figure.Figure at 0x22032dbdb70>"
      ]
     },
     "metadata": {},
     "output_type": "display_data"
    }
   ],
   "source": [
    "plot_curves(history,nb_epoch)"
   ]
  },
  {
   "cell_type": "markdown",
   "metadata": {
    "deletable": true,
    "editable": true
   },
   "source": [
    "The curve trend indicates that the model may be able to improve if we train it for longer, but for now let's leave it here.\n",
    "\n",
    "Let's now evaluate our model. ```model.evaluate()``` will take all the test samples, forward them through the network and return the average loss, and any additional metrics we specified (in our case, the accuracy)."
   ]
  },
  {
   "cell_type": "code",
   "execution_count": 11,
   "metadata": {
    "collapsed": false,
    "deletable": true,
    "editable": true
   },
   "outputs": [
    {
     "name": "stdout",
     "output_type": "stream",
     "text": [
      "Loss: 0.264356\n",
      "Accuracy: 0.927400\n"
     ]
    }
   ],
   "source": [
    "score = model.evaluate(X_test, Y_test, verbose=0)\n",
    "print (\"Loss: %f\"%(score[0]))\n",
    "print (\"Accuracy: %f\"%(score[1]))"
   ]
  },
  {
   "cell_type": "markdown",
   "metadata": {
    "deletable": true,
    "editable": true
   },
   "source": [
    "We reach an accuracy of 92%, which is similar to the one we obtained in the previous exercise."
   ]
  },
  {
   "cell_type": "markdown",
   "metadata": {
    "collapsed": true,
    "deletable": true,
    "editable": true
   },
   "source": [
    "## Adding a hidden layer"
   ]
  },
  {
   "cell_type": "markdown",
   "metadata": {
    "collapsed": true,
    "deletable": true,
    "editable": true
   },
   "source": [
    "Let's try to train a model with a hidden layer between the input and the classifier. \n",
    "\n",
    "**Exercise**: Modify the previous architecture to include this layer with 128 neurons and train it. Take into account that the ```input_shape``` must be passed to the first layer of the network."
   ]
  },
  {
   "cell_type": "code",
   "execution_count": 15,
   "metadata": {
    "collapsed": false,
    "deletable": true,
    "editable": true
   },
   "outputs": [
    {
     "name": "stdout",
     "output_type": "stream",
     "text": [
      "____________________________________________________________________________________________________\n",
      "Layer (type)                     Output Shape          Param #     Connected to                     \n",
      "====================================================================================================\n",
      "dense_4 (Dense)                  (None, 128)           100480      dense_input_3[0][0]              \n",
      "____________________________________________________________________________________________________\n",
      "activation_4 (Activation)        (None, 128)           0           dense_4[0][0]                    \n",
      "____________________________________________________________________________________________________\n",
      "dense_5 (Dense)                  (None, 10)            1290        activation_4[0][0]               \n",
      "____________________________________________________________________________________________________\n",
      "activation_5 (Activation)        (None, 10)            0           dense_5[0][0]                    \n",
      "====================================================================================================\n",
      "Total params: 101,770\n",
      "Trainable params: 101,770\n",
      "Non-trainable params: 0\n",
      "____________________________________________________________________________________________________\n"
     ]
    }
   ],
   "source": [
    "import numpy as np\n",
    "np.random.seed(SEED)\n",
    "\n",
    "# MODEL DEFINITION\n",
    "model = Sequential()\n",
    "\n",
    "model.add(Dense(128, input_shape=(784,)))\n",
    "model.add(Activation('relu'))\n",
    "model.add(Dense(10))\n",
    "model.add(Activation('softmax'))\n",
    "\n",
    "model.summary()"
   ]
  },
  {
   "cell_type": "markdown",
   "metadata": {
    "deletable": true,
    "editable": true
   },
   "source": [
    "**Exercise**: Compute the number of parameters and check if they match the ones given by ```model.summary()```"
   ]
  },
  {
   "cell_type": "markdown",
   "metadata": {
    "deletable": true,
    "editable": true
   },
   "source": [
    "**Answer**:"
   ]
  },
  {
   "cell_type": "code",
   "execution_count": 13,
   "metadata": {
    "collapsed": false,
    "deletable": true,
    "editable": true
   },
   "outputs": [
    {
     "data": {
      "text/plain": [
       "101770"
      ]
     },
     "execution_count": 13,
     "metadata": {},
     "output_type": "execute_result"
    }
   ],
   "source": [
    "in_dim = 784\n",
    "hidden_dim = 128\n",
    "cls_dim = 10\n",
    "\n",
    "l1 = hidden_dim*in_dim + hidden_dim\n",
    "l2 = hidden_dim*cls_dim + cls_dim\n",
    "\n",
    "l1 + l2"
   ]
  },
  {
   "cell_type": "code",
   "execution_count": 14,
   "metadata": {
    "collapsed": false,
    "deletable": true,
    "editable": true
   },
   "outputs": [
    {
     "name": "stdout",
     "output_type": "stream",
     "text": [
      "Train on 60000 samples, validate on 10000 samples\n",
      "Epoch 1/20\n",
      "5s - loss: 0.3045 - acc: 0.9126 - val_loss: 0.1708 - val_acc: 0.9503\n",
      "Epoch 2/20\n",
      "5s - loss: 0.1441 - acc: 0.9577 - val_loss: 0.1206 - val_acc: 0.9630\n",
      "Epoch 3/20\n",
      "5s - loss: 0.1041 - acc: 0.9698 - val_loss: 0.0954 - val_acc: 0.9714\n",
      "Epoch 4/20\n",
      "5s - loss: 0.0824 - acc: 0.9760 - val_loss: 0.0937 - val_acc: 0.9728\n",
      "Epoch 5/20\n",
      "5s - loss: 0.0683 - acc: 0.9800 - val_loss: 0.0809 - val_acc: 0.9734\n",
      "Epoch 6/20\n",
      "5s - loss: 0.0572 - acc: 0.9831 - val_loss: 0.0798 - val_acc: 0.9753\n",
      "Epoch 7/20\n",
      "5s - loss: 0.0488 - acc: 0.9863 - val_loss: 0.0780 - val_acc: 0.9750\n",
      "Epoch 8/20\n",
      "5s - loss: 0.0417 - acc: 0.9884 - val_loss: 0.0768 - val_acc: 0.9755\n",
      "Epoch 9/20\n",
      "5s - loss: 0.0360 - acc: 0.9900 - val_loss: 0.0739 - val_acc: 0.9762\n",
      "Epoch 10/20\n",
      "5s - loss: 0.0319 - acc: 0.9915 - val_loss: 0.0725 - val_acc: 0.9775\n",
      "Epoch 11/20\n",
      "5s - loss: 0.0281 - acc: 0.9927 - val_loss: 0.0709 - val_acc: 0.9774\n",
      "Epoch 12/20\n",
      "5s - loss: 0.0241 - acc: 0.9939 - val_loss: 0.0685 - val_acc: 0.9789\n",
      "Epoch 13/20\n",
      "5s - loss: 0.0209 - acc: 0.9948 - val_loss: 0.0706 - val_acc: 0.9780\n",
      "Epoch 14/20\n",
      "5s - loss: 0.0182 - acc: 0.9960 - val_loss: 0.0699 - val_acc: 0.9784\n",
      "Epoch 15/20\n",
      "5s - loss: 0.0158 - acc: 0.9968 - val_loss: 0.0676 - val_acc: 0.9796\n",
      "Epoch 16/20\n",
      "5s - loss: 0.0139 - acc: 0.9975 - val_loss: 0.0684 - val_acc: 0.9801\n",
      "Epoch 17/20\n",
      "5s - loss: 0.0122 - acc: 0.9982 - val_loss: 0.0701 - val_acc: 0.9798\n",
      "Epoch 18/20\n",
      "5s - loss: 0.0106 - acc: 0.9984 - val_loss: 0.0732 - val_acc: 0.9786\n",
      "Epoch 19/20\n",
      "5s - loss: 0.0097 - acc: 0.9988 - val_loss: 0.0689 - val_acc: 0.9797\n",
      "Epoch 20/20\n",
      "5s - loss: 0.0084 - acc: 0.9990 - val_loss: 0.0733 - val_acc: 0.9766\n",
      "109.43340420722961 seconds.\n",
      "----------\n",
      "Loss: 0.073344\n",
      "Accuracy: 0.976600\n"
     ]
    },
    {
     "data": {
      "image/png": "[encoded data removed]",
      "text/plain": [
       "<matplotlib.figure.Figure at 0x220308a4b70>"
      ]
     },
     "metadata": {},
     "output_type": "display_data"
    }
   ],
   "source": [
    "# COMPILE & TRAIN\n",
    "model.compile(loss='categorical_crossentropy',\n",
    "              optimizer=optim,\n",
    "              metrics=['accuracy'])\n",
    "\n",
    "t = time.time()\n",
    "history = model.fit(X_train, Y_train,\n",
    "                batch_size=batch_size, nb_epoch=nb_epoch,\n",
    "                verbose=2,validation_data=(X_test, Y_test))\n",
    "print (time.time() - t, \"seconds.\")\n",
    "\n",
    "score = model.evaluate(X_test, Y_test, verbose=0)\n",
    "print (\"-\"*10)\n",
    "print (\"Loss: %f\"%(score[0]))\n",
    "print (\"Accuracy: %f\"%(score[1]))\n",
    "plot_curves(history,nb_epoch)"
   ]
  },
  {
   "cell_type": "markdown",
   "metadata": {
    "deletable": true,
    "editable": true
   },
   "source": [
    "So, adding a hidden layer pushed the accuracy from 0.92 to almost 0.98. Of course the number of parameters has increased significantly. \n",
    "\n",
    "But... what happened to the training curves? While we significantly improved the performance with just a single layer, now our model is overfitting. How do we fix this?"
   ]
  },
  {
   "cell_type": "markdown",
   "metadata": {
    "deletable": true,
    "editable": true
   },
   "source": [
    "## Dropout"
   ]
  },
  {
   "cell_type": "markdown",
   "metadata": {
    "deletable": true,
    "editable": true
   },
   "source": [
    "**Exercise**: Add a dropout layer to the model and see their effect in the training curves & accuracy. See the documentation for the [Dropout](https://keras.io/layers/core/#dropout) layer in keras."
   ]
  },
  {
   "cell_type": "markdown",
   "metadata": {
    "deletable": true,
    "editable": true
   },
   "source": [
    "**Answer:**"
   ]
  },
  {
   "cell_type": "code",
   "execution_count": 16,
   "metadata": {
    "collapsed": false,
    "deletable": true,
    "editable": true
   },
   "outputs": [],
   "source": [
    "import numpy as np\n",
    "np.random.seed(SEED)\n",
    "\n",
    "from keras.layers import Dropout\n",
    "\n",
    "dratio = 0.2\n",
    "H_DIM = 128\n",
    "\n",
    "model = Sequential()\n",
    "model.add(Dense(H_DIM, input_shape=(784,)))\n",
    "model.add(Activation('relu'))\n",
    "model.add(Dropout(dratio))\n",
    "model.add(Dense(10))\n",
    "model.add(Activation('softmax'))"
   ]
  },
  {
   "cell_type": "code",
   "execution_count": 17,
   "metadata": {
    "collapsed": false,
    "deletable": true,
    "editable": true
   },
   "outputs": [
    {
     "name": "stdout",
     "output_type": "stream",
     "text": [
      "Train on 60000 samples, validate on 10000 samples\n",
      "Epoch 1/20\n",
      "5s - loss: 0.3337 - acc: 0.9029 - val_loss: 0.1659 - val_acc: 0.9515\n",
      "Epoch 2/20\n",
      "6s - loss: 0.1733 - acc: 0.9495 - val_loss: 0.1191 - val_acc: 0.9645\n",
      "Epoch 3/20\n",
      "6s - loss: 0.1334 - acc: 0.9605 - val_loss: 0.1003 - val_acc: 0.9690\n",
      "Epoch 4/20\n",
      "6s - loss: 0.1125 - acc: 0.9666 - val_loss: 0.0898 - val_acc: 0.9725\n",
      "Epoch 5/20\n",
      "6s - loss: 0.0967 - acc: 0.9714 - val_loss: 0.0799 - val_acc: 0.9760\n",
      "Epoch 6/20\n",
      "6s - loss: 0.0877 - acc: 0.9737 - val_loss: 0.0760 - val_acc: 0.9753\n",
      "Epoch 7/20\n",
      "6s - loss: 0.0793 - acc: 0.9760 - val_loss: 0.0747 - val_acc: 0.9772\n",
      "Epoch 8/20\n",
      "6s - loss: 0.0723 - acc: 0.9782 - val_loss: 0.0741 - val_acc: 0.9777\n",
      "Epoch 9/20\n",
      "6s - loss: 0.0680 - acc: 0.9788 - val_loss: 0.0756 - val_acc: 0.9769\n",
      "Epoch 10/20\n",
      "7s - loss: 0.0616 - acc: 0.9806 - val_loss: 0.0733 - val_acc: 0.9783\n",
      "Epoch 11/20\n",
      "6s - loss: 0.0568 - acc: 0.9824 - val_loss: 0.0664 - val_acc: 0.9789\n",
      "Epoch 12/20\n",
      "6s - loss: 0.0543 - acc: 0.9837 - val_loss: 0.0668 - val_acc: 0.9796\n",
      "Epoch 13/20\n",
      "6s - loss: 0.0499 - acc: 0.9843 - val_loss: 0.0659 - val_acc: 0.9801\n",
      "Epoch 14/20\n",
      "6s - loss: 0.0476 - acc: 0.9847 - val_loss: 0.0681 - val_acc: 0.9797\n",
      "Epoch 15/20\n",
      "7s - loss: 0.0465 - acc: 0.9852 - val_loss: 0.0636 - val_acc: 0.9793\n",
      "Epoch 16/20\n",
      "6s - loss: 0.0435 - acc: 0.9867 - val_loss: 0.0657 - val_acc: 0.9787\n",
      "Epoch 17/20\n",
      "7s - loss: 0.0427 - acc: 0.9862 - val_loss: 0.0647 - val_acc: 0.9793\n",
      "Epoch 18/20\n",
      "6s - loss: 0.0403 - acc: 0.9869 - val_loss: 0.0643 - val_acc: 0.9799\n",
      "Epoch 19/20\n",
      "6s - loss: 0.0364 - acc: 0.9884 - val_loss: 0.0630 - val_acc: 0.9803\n",
      "Epoch 20/20\n",
      "7s - loss: 0.0365 - acc: 0.9885 - val_loss: 0.0649 - val_acc: 0.9812\n",
      "136.54701733589172 seconds.\n",
      "----------\n",
      "Loss: 0.064908\n",
      "Accuracy: 0.981200\n"
     ]
    },
    {
     "data": {
      "image/png": "[encoded data removed]",
      "text/plain": [
       "<matplotlib.figure.Figure at 0x22030154dd8>"
      ]
     },
     "metadata": {},
     "output_type": "display_data"
    }
   ],
   "source": [
    "model.compile(loss='categorical_crossentropy',\n",
    "              optimizer=optim,\n",
    "              metrics=['accuracy'])\n",
    "t = time.time()\n",
    "history = model.fit(X_train, Y_train,\n",
    "                batch_size=batch_size, nb_epoch=nb_epoch,\n",
    "                verbose=verbose,validation_data=(X_test, Y_test))\n",
    "print (time.time() - t, \"seconds.\")\n",
    "\n",
    "score = model.evaluate(X_test, Y_test, verbose=0)\n",
    "print (\"-\"*10)\n",
    "print (\"Loss: %f\"%(score[0]))\n",
    "print (\"Accuracy: %f\"%(score[1]))\n",
    "plot_curves(history,nb_epoch)"
   ]
  },
  {
   "cell_type": "markdown",
   "metadata": {
    "deletable": true,
    "editable": true
   },
   "source": [
    "Did this improve the curves? What about the accuracy?"
   ]
  }
 ],
 "metadata": {
  "kernelspec": {
   "display_name": "Python 3",
   "language": "python",
   "name": "python3"
  },
  "language_info": {
   "codemirror_mode": {
    "name": "ipython",
    "version": 3
   },
   "file_extension": ".py",
   "mimetype": "text/x-python",
   "name": "python",
   "nbconvert_exporter": "python",
   "pygments_lexer": "ipython3",
   "version": "3.5.3"
  }
 },
 "nbformat": 4,
 "nbformat_minor": 2
}
